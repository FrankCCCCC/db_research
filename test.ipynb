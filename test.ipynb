{
 "cells": [
  {
   "cell_type": "code",
   "execution_count": 1,
   "source": [
    "import numpy as onp\n",
    "import jax.numpy as np\n",
    "\n",
    "def _one_hot(x, k, dtype=np.float32):\n",
    "    \"\"\"Create a one-hot encoding of x of size k.\"\"\"\n",
    "    return onp.array(x[:, None] == onp.arange(k), dtype)"
   ],
   "outputs": [],
   "metadata": {}
  },
  {
   "cell_type": "code",
   "execution_count": 2,
   "source": [
    "train_size = 5\n",
    "noise_size = 10\n",
    "\n",
    "target_label = onp.ones((train_size + noise_size,), onp.float64)\n",
    "print(target_label)\n",
    "target_label = _one_hot(target_label, 2, dtype=np.float64)\n",
    "print(target_label)"
   ],
   "outputs": [
    {
     "output_type": "stream",
     "name": "stdout",
     "text": [
      "[1. 1. 1. 1. 1. 1. 1. 1. 1. 1. 1. 1. 1. 1. 1.]\n",
      "[[0. 1.]\n",
      " [0. 1.]\n",
      " [0. 1.]\n",
      " [0. 1.]\n",
      " [0. 1.]\n",
      " [0. 1.]\n",
      " [0. 1.]\n",
      " [0. 1.]\n",
      " [0. 1.]\n",
      " [0. 1.]\n",
      " [0. 1.]\n",
      " [0. 1.]\n",
      " [0. 1.]\n",
      " [0. 1.]\n",
      " [0. 1.]]\n"
     ]
    }
   ],
   "metadata": {}
  },
  {
   "cell_type": "code",
   "execution_count": null,
   "source": [
    "labels = onp.concatenate([\n",
    "    onp.ones((train_size,), onp.float64), \n",
    "    onp.zeros((noise_size,), onp.float64)\n",
    "])\n",
    "print(labels)\n",
    "labels = _one_hot(labels, 2, dtype=np.float64)\n",
    "print(labels)"
   ],
   "outputs": [],
   "metadata": {}
  }
 ],
 "metadata": {
  "orig_nbformat": 4,
  "language_info": {
   "name": "python",
   "version": "3.8.10",
   "mimetype": "text/x-python",
   "codemirror_mode": {
    "name": "ipython",
    "version": 3
   },
   "pygments_lexer": "ipython3",
   "nbconvert_exporter": "python",
   "file_extension": ".py"
  },
  "kernelspec": {
   "name": "python3",
   "display_name": "Python 3.8.10 64-bit ('jax-ntk': conda)"
  },
  "interpreter": {
   "hash": "089a61f3c361e72ddf0e26fec99fe4c48458a8b582783307a1d4b0e1c9e1e5c9"
  }
 },
 "nbformat": 4,
 "nbformat_minor": 2
}